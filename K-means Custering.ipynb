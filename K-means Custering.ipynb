#libraries needeed
import numpy as np
import matplotlib.pyplot as plt
import pandas as pd
dataset=pd.read_csv('/content/Mall_Customers.csv') #import the dataset 
x=dataset.iloc[:, [3,4]].values
from sklearn.cluster import KMeans  #Use of Elbow method for obtaining K value
wcss=[]
for i in range(1,11):
  kmeans=KMeans(n_clusters=i, init= 'k-means++', random_state=42) #init method is used for initializing centroid
  kmeans.fit(x)
  wcss.append(kmeans.inertia_) # the size of the list increases by one, adds a single item to existing list
plt.plot(range(1,11),wcss)
plt.title('The Elbow Method')
plt.xlabel('Number of clusters')
plt.ylabel("WCSS")
plt.show() #plot WCSS with K value
#Elbow on x-axis at 5
#train the model for K=5 clusters
kmeans=KMeans(n_clusters= 5, init='k-means++', random_state= 42)
y_kmeans= kmeans.fit_predict(x) #different clusters corresponding to x
#using matplotlib for plotting all 5 clusters
plt.scatter(x[y_kmeans== 0,0],x[y_kmeans == 0,1],s=100,c='blue',label='Cluster 1 ')
plt.scatter(x[y_kmeans== 1,0],x[y_kmeans == 1,1],s=100,c='red',label='Cluster 2 ')
plt.scatter(x[y_kmeans== 2,0],x[y_kmeans == 2,1],s=100,c='green',label='Cluster 3 ')
plt.scatter(x[y_kmeans== 3,0],x[y_kmeans == 3,1],s=100,c='yellow',label='Cluster 4 ')
plt.scatter(x[y_kmeans== 4,0],x[y_kmeans == 4,1],s=100,c='pink',label='Cluster 5 ')
plt.scatter(kmeans.cluster_centers_[:, 0],kmeans.cluster_centers_[:, 1],s=400,c='purple',label='Centroids')
plt.title('Clusters of Customers')
plt.xlabel('Annual Income(k$)')
plt.ylabel('Spending Score(1-100')
plt.legend()
plt.show()
